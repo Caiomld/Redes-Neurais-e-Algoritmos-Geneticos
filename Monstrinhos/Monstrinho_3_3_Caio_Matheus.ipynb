{
 "cells": [
  {
   "cell_type": "markdown",
   "metadata": {},
   "source": [
    "## **INTRODUÇÃO**"
   ]
  },
  {
   "cell_type": "markdown",
   "metadata": {},
   "source": [
    "No experimento apresentado, o conceito de herança de classes foi ambientado na matemática, especificamente ao estudo de matrizes. O intuito da atividade é justamente o de abordar a relação matemática entre diferentes tipos de matrizes e ver como as propriedades das matrizes se aplicam e mantém entre os diferentes tipos."
   ]
  },
  {
   "cell_type": "markdown",
   "metadata": {},
   "source": [
    "---"
   ]
  },
  {
   "cell_type": "markdown",
   "metadata": {},
   "source": [
    "## **CÓDIGO**"
   ]
  },
  {
   "cell_type": "markdown",
   "metadata": {},
   "source": [
    "##### ***Classe para matrizes***"
   ]
  },
  {
   "cell_type": "markdown",
   "metadata": {},
   "source": [
    "Nesse caso, como classe mãe, iremos definir uma classe associada à matrizes e operações matriciais."
   ]
  },
  {
   "cell_type": "code",
   "execution_count": 1,
   "metadata": {},
   "outputs": [],
   "source": [
    "import numpy as np\n",
    "\n",
    "class Matriz: \n",
    "    def __init__(self, valores):\n",
    "        self.valores = valores\n",
    "        self.lin = len(valores)\n",
    "        self.col = len(valores[0])\n",
    "\n",
    "    def __add__(self, outra_matriz): \n",
    "        if self.lin != outra_matriz.lin or self.col != outra_matriz.col:\n",
    "            return f\"As matrizes não possuem as mesmas dimensões\"\n",
    "        else:\n",
    "            matriz_soma = np.zeros((self.lin, self.col))\n",
    "            for i in range (self.lin):\n",
    "                for j in range (self.col):\n",
    "                    matriz_soma[i][j] = self.valores[i][j] + outra_matriz.valores[i][j]\n",
    "            return Matriz(matriz_soma)\n",
    "        \n",
    "    def __sub__(self, outra_matriz):\n",
    "        if self.lin != outra_matriz.lin or self.col != outra_matriz.col:\n",
    "            return f\"As matrizes não possuem as mesmas dimensões\"\n",
    "        else:\n",
    "            matriz_sub = np.zeros((self.lin, self.col))\n",
    "            for i in range (self.lin):\n",
    "                for j in range (self.col):\n",
    "                    matriz_sub[i][j] = self.valores[i][j] - outra_matriz.valores[i][j]\n",
    "        return Matriz(matriz_sub)\n",
    "    \n",
    "    def __matmul__(self, outra_matriz):\n",
    "        if self.col != outra_matriz.lin:\n",
    "            return f\"As matrizes não possuem dimensões válidas\"\n",
    "        else:\n",
    "            matriz_mult = np.zeros((self.lin, outra_matriz.col))\n",
    "            for i in range (self.lin):\n",
    "                for j in range (outra_matriz.col):\n",
    "                    for k in range (self.col):\n",
    "                        matriz_mult[i][j] += self.valores[i][k] * outra_matriz.valores[k][j]\n",
    "            return Matriz(matriz_mult)   \n",
    "        \n",
    "    def __mul__(self, escalar):\n",
    "        if isinstance(escalar, (int, float)):  \n",
    "            matriz_mult = np.zeros((self.lin, self.col))\n",
    "            for i in range (self.lin):\n",
    "                for j in range (self.col):\n",
    "                    matriz_mult[i][j] = self.valores[i][j] * escalar\n",
    "            return Matriz(matriz_mult)\n",
    "        else:\n",
    "            return \"Insira um valor válido.\"\n",
    "    \n",
    "\n",
    "    def transposta(self):\n",
    "        transposta = np.zeros((self.col, self.lin))\n",
    "        for i in range (self.lin):\n",
    "            for j in range (self.col):\n",
    "                transposta[j][i] = self.valores[i][j]\n",
    "        return Matriz(transposta)\n",
    "\n",
    "    def mostrar_matriz(self):\n",
    "        for linha in self.valores:\n",
    "            print(linha)"
   ]
  },
  {
   "cell_type": "markdown",
   "metadata": {},
   "source": [
    "Definindo duas matrizes (\"matriz1\" e \"matriz2\"), podemos mostrar a utilização da classe a partir de seus métodos, como:"
   ]
  },
  {
   "cell_type": "code",
   "execution_count": 2,
   "metadata": {},
   "outputs": [],
   "source": [
    "matriz1 = Matriz([[1, 2], [3, 4]])\n",
    "matriz2 = Matriz([[5, 6], [7, 8]])"
   ]
  },
  {
   "cell_type": "markdown",
   "metadata": {},
   "source": [
    "* Método para printar as matrizes:"
   ]
  },
  {
   "cell_type": "code",
   "execution_count": 3,
   "metadata": {},
   "outputs": [
    {
     "name": "stdout",
     "output_type": "stream",
     "text": [
      "Matriz 1:\n",
      "[1, 2]\n",
      "[3, 4]\n",
      "\n",
      "Matriz 2:\n",
      "[5, 6]\n",
      "[7, 8]\n",
      "\n"
     ]
    }
   ],
   "source": [
    "print(\"Matriz 1:\")\n",
    "matriz1.mostrar_matriz()\n",
    "print()\n",
    "\n",
    "print(\"Matriz 2:\")\n",
    "matriz2.mostrar_matriz()\n",
    "print()"
   ]
  },
  {
   "cell_type": "markdown",
   "metadata": {},
   "source": [
    "* Método para somar as matrizes:"
   ]
  },
  {
   "cell_type": "code",
   "execution_count": 4,
   "metadata": {},
   "outputs": [
    {
     "name": "stdout",
     "output_type": "stream",
     "text": [
      "Soma das matrizes:\n",
      "[6. 8.]\n",
      "[10. 12.]\n"
     ]
    }
   ],
   "source": [
    "soma = matriz1 + matriz2\n",
    "print(\"Soma das matrizes:\")\n",
    "soma.mostrar_matriz()"
   ]
  },
  {
   "cell_type": "markdown",
   "metadata": {},
   "source": [
    "* Método para subtrair as matrizes:"
   ]
  },
  {
   "cell_type": "code",
   "execution_count": 5,
   "metadata": {},
   "outputs": [
    {
     "name": "stdout",
     "output_type": "stream",
     "text": [
      "Subtração das matrizes:\n",
      "[-4. -4.]\n",
      "[-4. -4.]\n"
     ]
    }
   ],
   "source": [
    "subtracao = matriz1 - matriz2\n",
    "print(\"Subtração das matrizes:\")\n",
    "subtracao.mostrar_matriz()"
   ]
  },
  {
   "cell_type": "markdown",
   "metadata": {},
   "source": [
    "* Método para multiplicar as matrizes:"
   ]
  },
  {
   "cell_type": "code",
   "execution_count": 6,
   "metadata": {},
   "outputs": [
    {
     "name": "stdout",
     "output_type": "stream",
     "text": [
      "Multiplicação das matrizes:\n",
      "[19. 22.]\n",
      "[43. 50.]\n"
     ]
    }
   ],
   "source": [
    "multiplicacao = matriz1 @ matriz2\n",
    "print(\"Multiplicação das matrizes:\")\n",
    "multiplicacao.mostrar_matriz()"
   ]
  },
  {
   "cell_type": "markdown",
   "metadata": {},
   "source": [
    "* Método para multiplicar as matrizes por um escalar:"
   ]
  },
  {
   "cell_type": "code",
   "execution_count": 7,
   "metadata": {},
   "outputs": [
    {
     "name": "stdout",
     "output_type": "stream",
     "text": [
      "Multiplicação da matriz por um escalar:\n",
      "[ 5. 10.]\n",
      "[15. 20.]\n"
     ]
    }
   ],
   "source": [
    "multiplicacao_escalar = matriz1 * 5\n",
    "print(\"Multiplicação da matriz por um escalar:\")\n",
    "multiplicacao_escalar.mostrar_matriz()"
   ]
  },
  {
   "cell_type": "markdown",
   "metadata": {},
   "source": [
    "* Método para transpor as matrizes:"
   ]
  },
  {
   "cell_type": "code",
   "execution_count": 8,
   "metadata": {},
   "outputs": [
    {
     "name": "stdout",
     "output_type": "stream",
     "text": [
      "Matriz 1 transposta:\n",
      "[1. 3.]\n",
      "[2. 4.]\n",
      "\n",
      "Matriz 2 tranposta:\n",
      "[5. 7.]\n",
      "[6. 8.]\n"
     ]
    }
   ],
   "source": [
    "print(\"Matriz 1 transposta:\")\n",
    "matriz1_T = matriz1.transposta()\n",
    "matriz1_T.mostrar_matriz()\n",
    "print()\n",
    "print(\"Matriz 2 tranposta:\")\n",
    "matriz2_T = matriz2.transposta()\n",
    "matriz2_T.mostrar_matriz()"
   ]
  },
  {
   "cell_type": "markdown",
   "metadata": {},
   "source": [
    "##### ***Classe para matrizes identidade***"
   ]
  },
  {
   "cell_type": "markdown",
   "metadata": {},
   "source": [
    "Já aqui, criamos a nossa primeira classe filha focando nas matrizes identidade."
   ]
  },
  {
   "cell_type": "code",
   "execution_count": 9,
   "metadata": {},
   "outputs": [],
   "source": [
    "class Matriz_Identidade(Matriz):\n",
    "    def __init__(self, n):\n",
    "        identidade = np.zeros((n, n))\n",
    "        for i in range (n):\n",
    "            for j in range (n):\n",
    "                if i == j:\n",
    "                    identidade[i][j] = 1\n",
    "                else:\n",
    "                    identidade[i][j] = 0\n",
    "        print(f\"Identidade {n}x{n}:\")\n",
    "        super().__init__(identidade)  \n",
    "    def verificar_identidade(self):\n",
    "        for i in range(self.lin):\n",
    "            for j in range(self.col):\n",
    "                if i == j and self.valores[i][j] != 1:\n",
    "                    return False\n",
    "                elif i != j and self.valores[i][j] != 0:\n",
    "                    return False\n",
    "        return True"
   ]
  },
  {
   "cell_type": "markdown",
   "metadata": {},
   "source": [
    "Podemos criar uma matriz identidade 10x10, por exemplo:"
   ]
  },
  {
   "cell_type": "code",
   "execution_count": 10,
   "metadata": {},
   "outputs": [
    {
     "name": "stdout",
     "output_type": "stream",
     "text": [
      "Identidade 10x10:\n",
      "[1. 0. 0. 0. 0. 0. 0. 0. 0. 0.]\n",
      "[0. 1. 0. 0. 0. 0. 0. 0. 0. 0.]\n",
      "[0. 0. 1. 0. 0. 0. 0. 0. 0. 0.]\n",
      "[0. 0. 0. 1. 0. 0. 0. 0. 0. 0.]\n",
      "[0. 0. 0. 0. 1. 0. 0. 0. 0. 0.]\n",
      "[0. 0. 0. 0. 0. 1. 0. 0. 0. 0.]\n",
      "[0. 0. 0. 0. 0. 0. 1. 0. 0. 0.]\n",
      "[0. 0. 0. 0. 0. 0. 0. 1. 0. 0.]\n",
      "[0. 0. 0. 0. 0. 0. 0. 0. 1. 0.]\n",
      "[0. 0. 0. 0. 0. 0. 0. 0. 0. 1.]\n"
     ]
    }
   ],
   "source": [
    "matriz_I = Matriz_Identidade(10)\n",
    "matriz_I.mostrar_matriz()"
   ]
  },
  {
   "cell_type": "markdown",
   "metadata": {},
   "source": [
    "E analisar se uma matriz é realmente uma identidade:"
   ]
  },
  {
   "cell_type": "code",
   "execution_count": 11,
   "metadata": {},
   "outputs": [
    {
     "name": "stdout",
     "output_type": "stream",
     "text": [
      "Identidade 8x8:\n",
      "[1. 0. 0. 0. 0. 0. 0. 0.]\n",
      "[0. 1. 0. 0. 0. 0. 0. 0.]\n",
      "[0. 0. 1. 0. 0. 0. 0. 0.]\n",
      "[0. 0. 0. 1. 0. 0. 0. 0.]\n",
      "[0. 0. 0. 0. 1. 0. 0. 0.]\n",
      "[0. 0. 0. 0. 0. 1. 0. 0.]\n",
      "[0. 0. 0. 0. 0. 0. 1. 0.]\n",
      "[0. 0. 0. 0. 0. 0. 0. 1.]\n"
     ]
    },
    {
     "data": {
      "text/plain": [
       "True"
      ]
     },
     "execution_count": 11,
     "metadata": {},
     "output_type": "execute_result"
    }
   ],
   "source": [
    "matriz_II = Matriz_Identidade(8)\n",
    "matriz_II.mostrar_matriz()\n",
    "matriz_II.verificar_identidade()"
   ]
  },
  {
   "cell_type": "markdown",
   "metadata": {},
   "source": [
    "##### ***Classe para matrizes diagonais***"
   ]
  },
  {
   "cell_type": "markdown",
   "metadata": {},
   "source": [
    "Para a nossa segunda classe filha, vamos focar nas matrizes diagonais e utilizar seus métodos, como:"
   ]
  },
  {
   "cell_type": "code",
   "execution_count": 12,
   "metadata": {},
   "outputs": [],
   "source": [
    "class Matriz_Diagonal(Matriz):\n",
    "    def __init__(self, n):\n",
    "        diagonal = np.zeros((n, n))\n",
    "        valores = []\n",
    "        linha = 1\n",
    "        for _ in range (n):\n",
    "            valor = float(input(f\"Digite o valor {linha}x{linha} da sua matriz\"))\n",
    "            valores.append(valor)\n",
    "            linha += 1\n",
    "        for i in range (n):\n",
    "            for j in range (n):\n",
    "                if i==j:\n",
    "                    diagonal[i][j] = valores[i]\n",
    "                else:\n",
    "                    diagonal[i][j] = 0\n",
    "        print(f\"Matriz diagonal {n}x{n}:\")\n",
    "        super().__init__(diagonal)\n",
    "\n",
    "    def inverter_diagonal(self):\n",
    "        inversa = np.zeros((self.lin, self.col))\n",
    "        for i in range(self.lin):\n",
    "            if self.valores[i][i] == 0:\n",
    "                return \"Não é possível inverter pois há um elemento 0 na diagonal\"\n",
    "            inversa[i][i] = 1 / self.valores[i][i]\n",
    "        return Matriz(inversa)\n",
    "    \n",
    "    def somar_diagonal(self):\n",
    "        soma = 0\n",
    "        for i in range (self.lin):\n",
    "            soma += self.valores[i][i]\n",
    "        return soma\n"
   ]
  },
  {
   "cell_type": "markdown",
   "metadata": {},
   "source": [
    "Criar uma matriz diagonal do tamanho e números desejados:"
   ]
  },
  {
   "cell_type": "code",
   "execution_count": 13,
   "metadata": {},
   "outputs": [
    {
     "name": "stdout",
     "output_type": "stream",
     "text": [
      "Matriz diagonal 5x5:\n",
      "[1. 0. 0. 0. 0.]\n",
      "[0. 2. 0. 0. 0.]\n",
      "[0. 0. 3. 0. 0.]\n",
      "[0. 0. 0. 4. 0.]\n",
      "[0. 0. 0. 0. 5.]\n"
     ]
    }
   ],
   "source": [
    "matriz_diagonal = Matriz_Diagonal(5)\n",
    "matriz_diagonal.mostrar_matriz()"
   ]
  },
  {
   "cell_type": "markdown",
   "metadata": {},
   "source": [
    "Fazer a inversa dessa diagonal:"
   ]
  },
  {
   "cell_type": "code",
   "execution_count": 14,
   "metadata": {},
   "outputs": [
    {
     "name": "stdout",
     "output_type": "stream",
     "text": [
      "[1. 0. 0. 0. 0.]\n",
      "[0.  0.5 0.  0.  0. ]\n",
      "[0.         0.         0.33333333 0.         0.        ]\n",
      "[0.   0.   0.   0.25 0.  ]\n",
      "[0.  0.  0.  0.  0.2]\n"
     ]
    }
   ],
   "source": [
    "matriz_diagonal_inversa = matriz_diagonal.inverter_diagonal()\n",
    "matriz_diagonal_inversa.mostrar_matriz()"
   ]
  },
  {
   "cell_type": "markdown",
   "metadata": {},
   "source": [
    "Ou até calcular a soma desses valores presentes na diagonal da matriz:"
   ]
  },
  {
   "cell_type": "code",
   "execution_count": 15,
   "metadata": {},
   "outputs": [
    {
     "data": {
      "text/plain": [
       "np.float64(15.0)"
      ]
     },
     "execution_count": 15,
     "metadata": {},
     "output_type": "execute_result"
    }
   ],
   "source": [
    "matriz_diagonal.somar_diagonal()"
   ]
  },
  {
   "cell_type": "markdown",
   "metadata": {},
   "source": [
    "---"
   ]
  },
  {
   "cell_type": "markdown",
   "metadata": {},
   "source": [
    "## **CONCLUSÃO**"
   ]
  },
  {
   "cell_type": "markdown",
   "metadata": {},
   "source": [
    "A implementação da herança no contexto de matrizes demonstrou como as propriedades das matrizes podem ser aplicadas e utilizadas para realizar a formação de outros diferentes tipos de matrizes mantendo as suas propriedades e operações. Além disso, foi válido o uso da herança de classes no contexto das matrizes dada a estruturação mais coesa e funcional do código, minimizando a ocorrência de redundâncias."
   ]
  },
  {
   "cell_type": "markdown",
   "metadata": {},
   "source": [
    "---"
   ]
  },
  {
   "cell_type": "markdown",
   "metadata": {},
   "source": [
    "## **REFERÊNCIAS**\n",
    "\n",
    "**[1]** CASSAR, Daniel. Redes Neurais e Algoritmos Genéticos. 2025. Material de Aula.\n",
    "\n",
    "**[2]** WASQUES, Vinicius. Álgebra Linear Computacional. 2024. Material de Aula."
   ]
  }
 ],
 "metadata": {
  "kernelspec": {
   "display_name": "Python 3",
   "language": "python",
   "name": "python3"
  },
  "language_info": {
   "codemirror_mode": {
    "name": "ipython",
    "version": 3
   },
   "file_extension": ".py",
   "mimetype": "text/x-python",
   "name": "python",
   "nbconvert_exporter": "python",
   "pygments_lexer": "ipython3",
   "version": "3.11.6"
  }
 },
 "nbformat": 4,
 "nbformat_minor": 2
}
