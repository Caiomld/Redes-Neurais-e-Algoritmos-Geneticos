{
 "cells": [
  {
   "cell_type": "markdown",
   "metadata": {},
   "source": [
    "## **INTRODUÇÃO**"
   ]
  },
  {
   "cell_type": "markdown",
   "metadata": {},
   "source": [
    "A atividade a seguir se propõe a modelar elementos químicos e moléculas a partir da criação de instâncias e classes, de modo a ser possível adquirir e expor a fórmula química de tal mólecula analisada em formato *string* e exibir o seu peso atômico molecular associado.\n",
    "\n",
    "Para tal, serão desenvolvidas duas classes distintas mas associadas para a representação dos elementos químicos em si e as moléculas compostas por tais elementos."
   ]
  },
  {
   "cell_type": "markdown",
   "metadata": {},
   "source": [
    "---"
   ]
  },
  {
   "cell_type": "markdown",
   "metadata": {},
   "source": [
    "## **CÓDIGO**"
   ]
  },
  {
   "cell_type": "markdown",
   "metadata": {},
   "source": [
    "#### ***Classe dos Elementos***"
   ]
  },
  {
   "cell_type": "markdown",
   "metadata": {},
   "source": [
    "O primeiro passo da atividade será criar a classe para que representará os elementos em si, expondo o seu `símbolo`, `número atômico` e `peso atômico`."
   ]
  },
  {
   "cell_type": "code",
   "execution_count": 1,
   "metadata": {},
   "outputs": [],
   "source": [
    "class Elemento:\n",
    "    \"\"\"Classe para representar os elementos químicos.\"\"\"\n",
    "\n",
    "    def __init__(self, elemento, simbolo, n_atomico, p_atomico):\n",
    "        self.elemento = elemento\n",
    "        self.simbolo = simbolo\n",
    "        self.n_atomico = n_atomico\n",
    "        self.p_atomico = p_atomico\n",
    "\n",
    "    def __repr__(self):\n",
    "        return f\"Elemento {self.elemento} de símbolo {self.simbolo}, número atômico igual a {self.n_atomico} e peso atômico igual a {self.p_atomico}\""
   ]
  },
  {
   "cell_type": "markdown",
   "metadata": {},
   "source": [
    "Fazendo o teste para o elemento Cloro (Cl), por exemplo, obtemos:"
   ]
  },
  {
   "cell_type": "code",
   "execution_count": 2,
   "metadata": {},
   "outputs": [
    {
     "name": "stdout",
     "output_type": "stream",
     "text": [
      "Elemento Cloro de símbolo Cl, número atômico igual a 17 e peso atômico igual a 35\n"
     ]
    }
   ],
   "source": [
    "cloro = Elemento(\"Cloro\", \"Cl\", 17, 35)\n",
    "print(cloro)"
   ]
  },
  {
   "cell_type": "markdown",
   "metadata": {},
   "source": [
    "#### ***Classe das Moléculas***"
   ]
  },
  {
   "cell_type": "markdown",
   "metadata": {},
   "source": [
    "Agora, podemos definir a classe das moléculas e, além de calcular o seu peso atômico, mostrar a sua `fórmula química`."
   ]
  },
  {
   "cell_type": "code",
   "execution_count": 3,
   "metadata": {},
   "outputs": [],
   "source": [
    "class Molecula:\n",
    "    \"\"\"Classe para representar uma molécula.\"\"\"\n",
    "    \n",
    "    def __init__(self, dicionario):        \n",
    "        self.dicionario = dicionario\n",
    "        # self.calcula_peso_atomico\n",
    "        # self.formula_quimica\n",
    "        self.peso_atomico = self.calcula_peso_atomico()\n",
    "        self.formula = self.formula_quimica()\n",
    "\n",
    "\n",
    "    def calcula_peso_atomico(self):\n",
    "        peso_atomico = 0\n",
    "        for elem, quant in self.dicionario.items():\n",
    "            peso_atomico += quant * elem.p_atomico\n",
    "        return peso_atomico\n",
    "\n",
    "    def formula_quimica(self):\n",
    "        string = \"\"\n",
    "        for elmnt, qntdd in self.dicionario.items():\n",
    "            if qntdd == 1:\n",
    "                string += elmnt.simbolo \n",
    "            else:\n",
    "                string += elmnt.simbolo + str(qntdd)\n",
    "        return string\n",
    "    \n",
    "    def __repr__(self):\n",
    "        return f\"Molécula representada pela fórmula {self.formula_quimica()} e de peso atômico equivalente a {self.calcula_peso_atomico()}\""
   ]
  },
  {
   "cell_type": "markdown",
   "metadata": {},
   "source": [
    "Podemos testar, portanto, com a molécula de água, por exemplo, definida com base na união dos dois elementos presentes nela incorporados em um dicionário."
   ]
  },
  {
   "cell_type": "code",
   "execution_count": 4,
   "metadata": {},
   "outputs": [],
   "source": [
    "hidrogenio = Elemento(\"Hidrogênio\", \"H\", 1, 1)\n",
    "oxigenio = Elemento(\"Oxigênio\", \"O\", 8, 16)\n",
    "\n",
    "dicionario_agua = {\n",
    "    hidrogenio : 2,\n",
    "    oxigenio : 1               \n",
    "                   }"
   ]
  },
  {
   "cell_type": "markdown",
   "metadata": {},
   "source": [
    "Fazemos o print da classe em si (método \\_\\_repr\\_\\_):"
   ]
  },
  {
   "cell_type": "code",
   "execution_count": 5,
   "metadata": {},
   "outputs": [
    {
     "name": "stdout",
     "output_type": "stream",
     "text": [
      "Molécula representada pela fórmula H2O e de peso atômico equivalente a 18\n"
     ]
    }
   ],
   "source": [
    "H2O = Molecula(dicionario_agua)\n",
    "print(H2O)"
   ]
  },
  {
   "cell_type": "markdown",
   "metadata": {},
   "source": [
    "Utilizamos do método para calcular o peso atômico da molécula:"
   ]
  },
  {
   "cell_type": "code",
   "execution_count": 6,
   "metadata": {},
   "outputs": [
    {
     "data": {
      "text/plain": [
       "18"
      ]
     },
     "execution_count": 6,
     "metadata": {},
     "output_type": "execute_result"
    }
   ],
   "source": [
    "H2O.calcula_peso_atomico()"
   ]
  },
  {
   "cell_type": "markdown",
   "metadata": {},
   "source": [
    "Ou somente utilizamos do método para obter sua fórmula química:"
   ]
  },
  {
   "cell_type": "code",
   "execution_count": 7,
   "metadata": {},
   "outputs": [
    {
     "data": {
      "text/plain": [
       "'H2O'"
      ]
     },
     "execution_count": 7,
     "metadata": {},
     "output_type": "execute_result"
    }
   ],
   "source": [
    "H2O.formula_quimica()"
   ]
  },
  {
   "cell_type": "markdown",
   "metadata": {},
   "source": [
    "---"
   ]
  },
  {
   "cell_type": "markdown",
   "metadata": {},
   "source": [
    "## **CONCLUSÃO**"
   ]
  },
  {
   "cell_type": "markdown",
   "metadata": {},
   "source": [
    "Portanto, a partir do desenvolvimento das classes anteriormente propostas, pôde-se realizar a representação dos elementos da forma prevista, indicando seu peso e número atômico. Além disso, foi possível também realizar o cálculo do número atômico total da molécula e representar a sua fórmula de forma a utilizar a classe anterior (de \"Elementos\") para tal. Com isso, o objetivo da atividade foi alcançado e as classes foram funcionais."
   ]
  },
  {
   "cell_type": "markdown",
   "metadata": {},
   "source": [
    "---"
   ]
  },
  {
   "cell_type": "markdown",
   "metadata": {},
   "source": [
    "## **REFERÊNCIAS**\n",
    "\n",
    "**[1]** CASSAR, Daniel. Redes Neurais e Algoritmos Genéticos. 2025. Material de Aula."
   ]
  }
 ],
 "metadata": {
  "kernelspec": {
   "display_name": "Python 3",
   "language": "python",
   "name": "python3"
  },
  "language_info": {
   "codemirror_mode": {
    "name": "ipython",
    "version": 3
   },
   "file_extension": ".py",
   "mimetype": "text/x-python",
   "name": "python",
   "nbconvert_exporter": "python",
   "pygments_lexer": "ipython3",
   "version": "3.11.6"
  }
 },
 "nbformat": 4,
 "nbformat_minor": 2
}
