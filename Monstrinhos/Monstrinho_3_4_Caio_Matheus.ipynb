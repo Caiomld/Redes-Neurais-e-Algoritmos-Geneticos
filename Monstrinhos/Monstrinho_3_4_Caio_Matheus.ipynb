{
 "cells": [
  {
   "cell_type": "markdown",
   "metadata": {},
   "source": [
    "## **INTRODUÇÃO**"
   ]
  },
  {
   "cell_type": "markdown",
   "metadata": {},
   "source": [
    "O intuito da atividade realizar segue o princípio da utilização de métodos dunder (*double underline*) para a funcionalização de uma classe criada. No caso dessa atividade em si, foi criada uma classe que recebe um dicionário associado a uma biblioteca e os métodos dunder adotados (*\\_\\_contains\\_\\_*, *\\_\\_getitem\\_\\_* e *\\_\\_call\\_\\_*) se propõem a analisar a disponibilidade do livro na biblioteca analisada, acessar o livro pelo seu índice associado e filtrar a biblioteca a partir das características disponibilizadas do livro (nesse caso, o nome do livro, ano de lançamento, nome do autor principal e a disciplina a que ele está mais associado). "
   ]
  },
  {
   "cell_type": "markdown",
   "metadata": {},
   "source": [
    "---"
   ]
  },
  {
   "cell_type": "markdown",
   "metadata": {},
   "source": [
    "## **CÓDIGO**"
   ]
  },
  {
   "cell_type": "code",
   "execution_count": 1,
   "metadata": {},
   "outputs": [],
   "source": [
    "class BibliotecaIlum:\n",
    "    def __init__(self, livros):\n",
    "        self.livros = livros\n",
    "        \n",
    "    def __contains__(self, item):\n",
    "        \"\"\"Analisa se o livro desejado está ou não na biblioteca\"\"\"\n",
    "        for livro in self.livros:\n",
    "            if item == livro[\"nome\"]:\n",
    "                return f'O livro {livro[\"nome\"]} ESTÁ na biblioteca'\n",
    "        return f'O livro {livro[\"nome\"]} NÃO está na biblioteca'\n",
    "        \n",
    "    def __getitem__(self, indice):\n",
    "        \"\"\"Acessa o livro de índice desejado\"\"\"\n",
    "        if 0 <= indice < len(self.livros):\n",
    "            return self.livros[indice]\n",
    "        else:\n",
    "            return f\"Índice fora da escala da lista\"\n",
    "        \n",
    "    def __call__(self, filtro = None):\n",
    "        \"\"\"Filtra os livros baseado em alguma característica específica\"\"\"\n",
    "        if filtro == None:\n",
    "            livros_filtrados = self.livros\n",
    "            return f\"Os livros disponíveis são:\" + str(livros_filtrados)\n",
    "        else:\n",
    "            livros_filtrados = []\n",
    "            for livro in self.livros:\n",
    "                for valor in livro.values():\n",
    "                    if filtro in str(valor):\n",
    "                        livros_filtrados.append(livro) \n",
    "        \n",
    "        if [livros_filtrados] != []:\n",
    "            for livro in livros_filtrados:\n",
    "                return f\"O livro '{livro['nome']}' de {livro['ano']} é do autor {livro['autor']} e da área de {livro['disciplina']}\"\n",
    "        else:\n",
    "            print(\"Não foi encontrado nenhum livros nessas condições :(\")"
   ]
  },
  {
   "cell_type": "code",
   "execution_count": 2,
   "metadata": {},
   "outputs": [],
   "source": [
    "biblioteca = BibliotecaIlum([\n",
    "    {\"nome\": \"Curso de física básica: Mecânica (vol.1)\", \"ano\": 2013, \"autor\": \"H. Moysés Nussenzveig\", \"disciplina\": \"Física\"},\n",
    "    {\"nome\": \"A Célula\", \"ano\": 2019, \"autor\": \"Hernandes F. Carvalho\", \"disciplina\": \"Biologia\"},\n",
    "    {\"nome\": \"Nação das Plantas\", \"ano\": 2024, \"autor\": \"Stefano Mancuso\", \"disciplina\": \"Humanidades\"},\n",
    "    {\"nome\": \"Princípios de Química: Questionando a Vida Moderna e o Meio Ambiente\", \"ano\": 2018, \"autor\": \"Peter Atkins\", \"disciplina\": \"Química\"},\n",
    "    {\"nome\": \"Variáveis Complexas e Aplicações\", \"ano\": 2000, \"autor\": \"Geraldo Ávila\", \"disciplina\": \"Matemática\"}\n",
    "])"
   ]
  },
  {
   "cell_type": "markdown",
   "metadata": {},
   "source": [
    "#### ***Método \\_\\_contains\\_\\_***\n",
    "\n",
    "No caso desse método, busca-se saber acerca da disponibilidade do livro na biblioteca. Com isso, o método pode ser associado a função já conhecida do \"in\", que retorna a disponibilidade como \"True\" se disponível ou \"False\" se indisponível. No caso do método criado, é retornado uma frase para o usuário com o nome do livro e se ele está ou não na biblioteca, seguindo o mesmo princípio."
   ]
  },
  {
   "cell_type": "code",
   "execution_count": 3,
   "metadata": {},
   "outputs": [
    {
     "data": {
      "text/plain": [
       "'O livro Curso de física básica: Mecânica (vol.1) ESTÁ na biblioteca'"
      ]
     },
     "execution_count": 3,
     "metadata": {},
     "output_type": "execute_result"
    }
   ],
   "source": [
    "biblioteca.__contains__(\"Curso de física básica: Mecânica (vol.1)\") "
   ]
  },
  {
   "cell_type": "code",
   "execution_count": 4,
   "metadata": {},
   "outputs": [
    {
     "name": "stdout",
     "output_type": "stream",
     "text": [
      "True\n"
     ]
    }
   ],
   "source": [
    "print(\"Curso de física básica: Mecânica (vol.1)\" in biblioteca)"
   ]
  },
  {
   "cell_type": "markdown",
   "metadata": {},
   "source": [
    "#### ***Método \\_\\_getitem\\_\\_***\n",
    "\n",
    "No método \\_\\_getitem\\_\\_, nosso objetivo é o de acessar o objeto associado a um determinado índice da lista/dicionário de itens (ou livros, nesse caso). Assim, uma utilização já conhecida de tal método dunder é o uso de colchetes com o índice buscado dentro deles. Dessa forma, o método e o uso com colchetes seguem o mesmo princípio e retornam o mesmo item, validando a formulação realizada do método."
   ]
  },
  {
   "cell_type": "code",
   "execution_count": 5,
   "metadata": {},
   "outputs": [
    {
     "data": {
      "text/plain": [
       "{'nome': 'Nação das Plantas',\n",
       " 'ano': 2024,\n",
       " 'autor': 'Stefano Mancuso',\n",
       " 'disciplina': 'Humanidades'}"
      ]
     },
     "execution_count": 5,
     "metadata": {},
     "output_type": "execute_result"
    }
   ],
   "source": [
    "biblioteca.__getitem__(2)"
   ]
  },
  {
   "cell_type": "code",
   "execution_count": 6,
   "metadata": {},
   "outputs": [
    {
     "name": "stdout",
     "output_type": "stream",
     "text": [
      "{'nome': 'Nação das Plantas', 'ano': 2024, 'autor': 'Stefano Mancuso', 'disciplina': 'Humanidades'}\n"
     ]
    }
   ],
   "source": [
    "print(biblioteca[2])"
   ]
  },
  {
   "cell_type": "markdown",
   "metadata": {},
   "source": [
    "#### ***Método \\_\\_call\\_\\_***\n",
    "\n",
    "Já no método \\_\\_call\\_\\_, pode-se realizar um processo de filtração acerca dos livros da biblioteca baseado numa característica desejada (como o autor ou a disciplina associada ao livro, por exemplo), retornando ao usuário os livros baseados no filtro aplicado"
   ]
  },
  {
   "cell_type": "code",
   "execution_count": 7,
   "metadata": {},
   "outputs": [
    {
     "data": {
      "text/plain": [
       "\"Os livros disponíveis são:[{'nome': 'Curso de física básica: Mecânica (vol.1)', 'ano': 2013, 'autor': 'H. Moysés Nussenzveig', 'disciplina': 'Física'}, {'nome': 'A Célula', 'ano': 2019, 'autor': 'Hernandes F. Carvalho', 'disciplina': 'Biologia'}, {'nome': 'Nação das Plantas', 'ano': 2024, 'autor': 'Stefano Mancuso', 'disciplina': 'Humanidades'}, {'nome': 'Princípios de Química: Questionando a Vida Moderna e o Meio Ambiente', 'ano': 2018, 'autor': 'Peter Atkins', 'disciplina': 'Química'}, {'nome': 'Variáveis Complexas e Aplicações', 'ano': 2000, 'autor': 'Geraldo Ávila', 'disciplina': 'Matemática'}]\""
      ]
     },
     "execution_count": 7,
     "metadata": {},
     "output_type": "execute_result"
    }
   ],
   "source": [
    "biblioteca.__call__()"
   ]
  },
  {
   "cell_type": "code",
   "execution_count": 8,
   "metadata": {},
   "outputs": [
    {
     "data": {
      "text/plain": [
       "\"Os livros disponíveis são:[{'nome': 'Curso de física básica: Mecânica (vol.1)', 'ano': 2013, 'autor': 'H. Moysés Nussenzveig', 'disciplina': 'Física'}, {'nome': 'A Célula', 'ano': 2019, 'autor': 'Hernandes F. Carvalho', 'disciplina': 'Biologia'}, {'nome': 'Nação das Plantas', 'ano': 2024, 'autor': 'Stefano Mancuso', 'disciplina': 'Humanidades'}, {'nome': 'Princípios de Química: Questionando a Vida Moderna e o Meio Ambiente', 'ano': 2018, 'autor': 'Peter Atkins', 'disciplina': 'Química'}, {'nome': 'Variáveis Complexas e Aplicações', 'ano': 2000, 'autor': 'Geraldo Ávila', 'disciplina': 'Matemática'}]\""
      ]
     },
     "execution_count": 8,
     "metadata": {},
     "output_type": "execute_result"
    }
   ],
   "source": [
    "biblioteca()"
   ]
  },
  {
   "cell_type": "code",
   "execution_count": 9,
   "metadata": {},
   "outputs": [
    {
     "data": {
      "text/plain": [
       "\"O livro 'A Célula' de 2019 é do autor Hernandes F. Carvalho e da área de Biologia\""
      ]
     },
     "execution_count": 9,
     "metadata": {},
     "output_type": "execute_result"
    }
   ],
   "source": [
    "biblioteca.__call__(\"Hernandes F. Carvalho\")"
   ]
  },
  {
   "cell_type": "code",
   "execution_count": 10,
   "metadata": {},
   "outputs": [
    {
     "data": {
      "text/plain": [
       "\"O livro 'A Célula' de 2019 é do autor Hernandes F. Carvalho e da área de Biologia\""
      ]
     },
     "execution_count": 10,
     "metadata": {},
     "output_type": "execute_result"
    }
   ],
   "source": [
    "biblioteca(\"Hernandes F. Carvalho\")"
   ]
  },
  {
   "cell_type": "markdown",
   "metadata": {},
   "source": [
    "---"
   ]
  },
  {
   "cell_type": "markdown",
   "metadata": {},
   "source": [
    "## **CONCLUSÃO**"
   ]
  },
  {
   "cell_type": "markdown",
   "metadata": {},
   "source": [
    "Em conclusão a essa atividade, pôde-se obter um maior conhecimento acerca da possibilidade e diversidade de utilização de diferentes métodos dunder intrínsecos em classes. Com isso, foi possível perceber também a relação entre algumas das funções já anteriormente utilizadas e o seu funcionamento como métodos de uma classe em si.  "
   ]
  },
  {
   "cell_type": "markdown",
   "metadata": {},
   "source": [
    "---"
   ]
  },
  {
   "cell_type": "markdown",
   "metadata": {},
   "source": [
    "## **REFERÊNCIAS**\n",
    "\n",
    "**[1]** CASSAR, Daniel. Redes Neurais e Algoritmos Genéticos. 2025. Material de Aula.\n",
    "\n",
    "**[2]** KOUL, Nimrita. Dunder methods in Python. Medium. 2023. Disponível em: https://medium.com/@nimritakoul01/dunder-methods-in-python-9f32f2e6103b.\n",
    "\n",
    "**[3]** Engineering with Kurt. Dunder methods in Python - Explained. YouTube. 2022. Disponível em: https://www.youtube.com/watch?v=Xe9VG36n0Ho.\n",
    "\n",
    "**[4]** PIERIAN TRAINING. Python \\_\\_contains\\_\\_: A comprehensive guide. 2024. Disponível em: https://pieriantraining.com/python-contains-a-comprehensive-guide/."
   ]
  }
 ],
 "metadata": {
  "kernelspec": {
   "display_name": "Python 3",
   "language": "python",
   "name": "python3"
  },
  "language_info": {
   "codemirror_mode": {
    "name": "ipython",
    "version": 3
   },
   "file_extension": ".py",
   "mimetype": "text/x-python",
   "name": "python",
   "nbconvert_exporter": "python",
   "pygments_lexer": "ipython3",
   "version": "3.11.6"
  }
 },
 "nbformat": 4,
 "nbformat_minor": 2
}
