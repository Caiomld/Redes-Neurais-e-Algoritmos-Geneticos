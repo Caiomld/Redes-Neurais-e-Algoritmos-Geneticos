{
  "cells": [
    {
      "cell_type": "markdown",
      "metadata": {
        "id": "YwHNAHahY_S_"
      },
      "source": [
        "## **INTRODUÇÃO**"
      ]
    },
    {
      "cell_type": "markdown",
      "metadata": {
        "id": "9ZX-mTSFY_QG"
      },
      "source": [
        "A atividade contida nesse notebook possui o intuito de resolver o problema de otimização pautado na busca de uma liga ternária de forma xA.yB.zC que possua o maior custo possível. As proposições do problema explicitam que a massa total deve ser de 100g e cada elemento precisa ter uma participação de ao menos 5g. \n",
        "\n",
        "Para solucionar essa questão, foi implementado um Algoritmo Genético que parte de uma população de ligas aleatórias e as aprimora ao longo de cada uma das gerações, com a selecão das ligas mais \"aptas\" baseadas no objetivo proposto (nesse caso, as mais caras) para geração de novas soluções."
      ]
    },
    {
      "cell_type": "markdown",
      "metadata": {
        "id": "JdEye_owZDty"
      },
      "source": [
        "---"
      ]
    },
    {
      "cell_type": "markdown",
      "metadata": {},
      "source": [
        "## **AUTORES E CONTRIBUIÇÕES**"
      ]
    },
    {
      "cell_type": "markdown",
      "metadata": {},
      "source": [
        "**Autores:**\n",
        "\n",
        "* Caio Matheus Leão Dantas\n",
        "* Raquel de Godoy Vianna\n",
        "\n",
        "**Contribuições:** A atividade foi desenvolvida em conjunto, sobretudo no que tange à compreensão do problema e à aplicação em código, enquanto a parte teórica foi realizada separadamente, de modo que ambos contribuíram igualmente para o desenvolvimento da tarefa."
      ]
    },
    {
      "cell_type": "markdown",
      "metadata": {},
      "source": [
        "---"
      ]
    },
    {
      "cell_type": "markdown",
      "metadata": {
        "id": "xskWC-zoY-yy"
      },
      "source": [
        "## **CÓDIGOS**"
      ]
    },
    {
      "cell_type": "markdown",
      "metadata": {
        "id": "wblGTozFhBKu"
      },
      "source": [
        "O primeiro passo a ser realizado é a importação das bibliotecas necessárias para o desenvolvimento do código e o recebimento das funções definidas no arquivo :\"*.py*\":"
      ]
    },
    {
      "cell_type": "code",
      "execution_count": 1,
      "metadata": {
        "id": "ySKjzxCoAx_r"
      },
      "outputs": [],
      "source": [
        "import random as rd\n",
        "import matplotlib.pyplot as plt\n",
        "from funcoes_feras import populacao_ligas, funcao_objetivo_pop_ligas, selecao_torneio_max, cruzamentos_uniformes, mutacao_ligas"
      ]
    },
    {
      "cell_type": "markdown",
      "metadata": {
        "id": "5um4TID8hKdV"
      },
      "source": [
        "E a definição dos hiperparâmetros que serão utilizados no processo de evolução por gerações:"
      ]
    },
    {
      "cell_type": "code",
      "execution_count": 2,
      "metadata": {
        "id": "p4vJVsVSYI_c"
      },
      "outputs": [],
      "source": [
        "TAMANHO_POPULACAO = 100\n",
        "TAMANHO_TORNEIO = 3\n",
        "NUM_GERACOES = 50\n",
        "CHANCE_DE_CRUZAMENTO = 0.5\n",
        "CHANCE_DE_MUTACAO = 0.05"
      ]
    },
    {
      "cell_type": "markdown",
      "metadata": {},
      "source": [
        "Definimos o dicionário disponibilizado associado ao preço dos elementos em dólares por quilograma:\n"
      ]
    },
    {
      "cell_type": "code",
      "execution_count": 3,
      "metadata": {
        "id": "K-8MTTAGA3l8"
      },
      "outputs": [],
      "source": [
        "preco = {\n",
        "    \"H\": 1.39, \"He\": 24, \"Li\": 85.6, \"Be\": 857, \"B\": 3.68, \"C\": 0.122, \"N\": 0.14, \"O\": 0.154,\n",
        "    \"F\": 2.16, \"Ne\": 240, \"Na\": 3.43, \"Mg\": 2.32, \"Al\": 1.79, \"Si\": 1.7, \"P\": 2.69, \"S\": 0.0926,\n",
        "    \"Cl\": 0.082, \"Ar\": 0.931, \"K\": 13.6, \"Ca\": 2.35, \"Sc\": 3460, \"Ti\": 11.7, \"V\": 385, \"Cr\": 9.4,\n",
        "    \"Mn\": 1.82, \"Fe\": 0.424, \"Co\": 32.8, \"Ni\": 13.9, \"Cu\": 6, \"Zn\": 2.55, \"Ga\": 148, \"Ge\": 1010,\n",
        "    \"As\": 1.31, \"Se\": 21.4, \"Br\": 4.39, \"Kr\": 290, \"Rb\": 15500, \"Sr\": 6.68, \"Y\": 31, \"Nb\": 85.6,\n",
        "    \"Mo\": 40.1, \"Tc\": 100000, \"Ru\": 10600, \"Rh\": 147000, \"Pd\": 49500, \"Ag\": 521, \"Cd\": 2.73,\n",
        "    \"In\": 167, \"Sn\": 18.7, \"Sb\": 5.79, \"Te\": 63.5, \"I\": 35, \"Xe\": 1800, \"Cs\": 61800, \"Ba\": 0.275,\n",
        "    \"La\": 4.92, \"Ce\": 4.71, \"Pr\": 103, \"Nd\": 57.5, \"Pm\": 460000, \"Sm\": 13.9, \"Eu\": 31.4, \"Gd\": 28.6,\n",
        "    \"Tb\": 658, \"Dy\": 307, \"Ho\": 57.1, \"Er\": 26.4, \"Tm\": 3000, \"Yb\": 17.1, \"Lu\": 643, \"Hf\": 900,\n",
        "    \"Ta\": 312, \"W\": 35.3, \"Re\": 4150, \"Os\": 12000, \"Ir\": 56200, \"Pt\": 27800, \"Hg\": 30.2,\n",
        "    \"Tl\": 4200, \"Pb\": 2, \"Bi\": 6.36, \"Po\": 49200000000000, \"Ac\": 29000000000000, \"Th\": 287,\n",
        "    \"Pa\": 280000, \"U\": 101, \"Np\": 660000, \"Pu\": 6490000, \"Am\": 750000, \"Cm\": 160000000000,\n",
        "    \"Bk\": 185000000000, \"Cf\": 185000000000\n",
        "}"
      ]
    },
    {
      "cell_type": "markdown",
      "metadata": {
        "id": "upUt8JHPSlVk"
      },
      "source": [
        "E, de acordo com o requisitado no problema, obtemos o preço em dólares por grama:"
      ]
    },
    {
      "cell_type": "code",
      "execution_count": 4,
      "metadata": {
        "colab": {
          "base_uri": "https://localhost:8080/"
        },
        "id": "qOX8lnfEYvvt",
        "outputId": "345e8cc4-5cf4-44dc-d733-dda2638af437"
      },
      "outputs": [
        {
          "data": {
            "text/plain": [
              "{'H': 1390.0,\n",
              " 'He': 24000,\n",
              " 'Li': 85600.0,\n",
              " 'Be': 857000,\n",
              " 'B': 3680.0,\n",
              " 'C': 122.0,\n",
              " 'N': 140.0,\n",
              " 'O': 154.0,\n",
              " 'F': 2160.0,\n",
              " 'Ne': 240000,\n",
              " 'Na': 3430.0,\n",
              " 'Mg': 2320.0,\n",
              " 'Al': 1790.0,\n",
              " 'Si': 1700.0,\n",
              " 'P': 2690.0,\n",
              " 'S': 92.60000000000001,\n",
              " 'Cl': 82.0,\n",
              " 'Ar': 931.0,\n",
              " 'K': 13600.0,\n",
              " 'Ca': 2350.0,\n",
              " 'Sc': 3460000,\n",
              " 'Ti': 11700.0,\n",
              " 'V': 385000,\n",
              " 'Cr': 9400.0,\n",
              " 'Mn': 1820.0,\n",
              " 'Fe': 424.0,\n",
              " 'Co': 32800.0,\n",
              " 'Ni': 13900.0,\n",
              " 'Cu': 6000,\n",
              " 'Zn': 2550.0,\n",
              " 'Ga': 148000,\n",
              " 'Ge': 1010000,\n",
              " 'As': 1310.0,\n",
              " 'Se': 21400.0,\n",
              " 'Br': 4390.0,\n",
              " 'Kr': 290000,\n",
              " 'Rb': 15500000,\n",
              " 'Sr': 6680.0,\n",
              " 'Y': 31000,\n",
              " 'Nb': 85600.0,\n",
              " 'Mo': 40100.0,\n",
              " 'Tc': 100000000,\n",
              " 'Ru': 10600000,\n",
              " 'Rh': 147000000,\n",
              " 'Pd': 49500000,\n",
              " 'Ag': 521000,\n",
              " 'Cd': 2730.0,\n",
              " 'In': 167000,\n",
              " 'Sn': 18700.0,\n",
              " 'Sb': 5790.0,\n",
              " 'Te': 63500.0,\n",
              " 'I': 35000,\n",
              " 'Xe': 1800000,\n",
              " 'Cs': 61800000,\n",
              " 'Ba': 275.0,\n",
              " 'La': 4920.0,\n",
              " 'Ce': 4710.0,\n",
              " 'Pr': 103000,\n",
              " 'Nd': 57500.0,\n",
              " 'Pm': 460000000,\n",
              " 'Sm': 13900.0,\n",
              " 'Eu': 31400.0,\n",
              " 'Gd': 28600.0,\n",
              " 'Tb': 658000,\n",
              " 'Dy': 307000,\n",
              " 'Ho': 57100.0,\n",
              " 'Er': 26400.0,\n",
              " 'Tm': 3000000,\n",
              " 'Yb': 17100.0,\n",
              " 'Lu': 643000,\n",
              " 'Hf': 900000,\n",
              " 'Ta': 312000,\n",
              " 'W': 35300.0,\n",
              " 'Re': 4150000,\n",
              " 'Os': 12000000,\n",
              " 'Ir': 56200000,\n",
              " 'Pt': 27800000,\n",
              " 'Hg': 30200.0,\n",
              " 'Tl': 4200000,\n",
              " 'Pb': 2000,\n",
              " 'Bi': 6360.0,\n",
              " 'Po': 49200000000000000,\n",
              " 'Ac': 29000000000000000,\n",
              " 'Th': 287000,\n",
              " 'Pa': 280000000,\n",
              " 'U': 101000,\n",
              " 'Np': 660000000,\n",
              " 'Pu': 6490000000,\n",
              " 'Am': 750000000,\n",
              " 'Cm': 160000000000000,\n",
              " 'Bk': 185000000000000,\n",
              " 'Cf': 185000000000000}"
            ]
          },
          "execution_count": 4,
          "metadata": {},
          "output_type": "execute_result"
        }
      ],
      "source": [
        "for i in preco:\n",
        "  preco[i] = preco[i] * 1000\n",
        "\n",
        "preco"
      ]
    },
    {
      "cell_type": "markdown",
      "metadata": {},
      "source": [
        "Definimos uma população de composições de ligas possíveis, compostas por cada um dos três elementos seguidos por suas quantidades, no modelo (\"A\", \"B\", \"C\", \"x\", \"y\", \"z\") para um elemento xA.yB.zC:"
      ]
    },
    {
      "cell_type": "code",
      "execution_count": 5,
      "metadata": {
        "id": "-sIKKv4geSK8"
      },
      "outputs": [],
      "source": [
        "populacao = populacao_ligas(TAMANHO_POPULACAO, preco)"
      ]
    },
    {
      "cell_type": "markdown",
      "metadata": {},
      "source": [
        "Com tudo já definido, realizamos o processo evolutivo por épocas com os processos de seleção, cruzamento e mutação, reparando os indivíduos se necessário:"
      ]
    },
    {
      "cell_type": "code",
      "execution_count": 6,
      "metadata": {
        "id": "OEPF7ocPKFpB"
      },
      "outputs": [],
      "source": [
        "hall_da_fama = []\n",
        "historico_fitness = []\n",
        "\n",
        "for n in range(NUM_GERACOES):\n",
        "\n",
        "    # Seleção\n",
        "    fitness = funcao_objetivo_pop_ligas(populacao, preco)\n",
        "    selecionados = selecao_torneio_max(populacao, fitness, TAMANHO_TORNEIO)\n",
        "\n",
        "    # Cruzamento\n",
        "    proxima_geracao = []\n",
        "    for pai, mae in zip(selecionados[::2], selecionados[1::2]):\n",
        "        individuo1, individuo2 = cruzamentos_uniformes(pai, mae, CHANCE_DE_CRUZAMENTO, list(preco.keys()))\n",
        "        proxima_geracao.append(individuo1)\n",
        "        proxima_geracao.append(individuo2)\n",
        "\n",
        "    # Mutação\n",
        "    mutacao_ligas(proxima_geracao, CHANCE_DE_MUTACAO, list(preco.keys()), preco)\n",
        "\n",
        "    # Atualização do hall da fama\n",
        "    fitness = funcao_objetivo_pop_ligas(proxima_geracao, preco)\n",
        "\n",
        "    maior_fitness = max(fitness)\n",
        "    indice = fitness.index(maior_fitness)\n",
        "    hall_da_fama.append(proxima_geracao[indice])\n",
        "\n",
        "    # Armazenamento dos fitness\n",
        "    historico_fitness.append(max(fitness))\n",
        "\n",
        "    # Encerramento\n",
        "    populacao = proxima_geracao"
      ]
    },
    {
      "cell_type": "markdown",
      "metadata": {},
      "source": [
        "A partir da evolução por épocas, obtemos o indivíduo melhor avaliado e qual a configuração de elementos associada a ele:"
      ]
    },
    {
      "cell_type": "code",
      "execution_count": 7,
      "metadata": {
        "colab": {
          "base_uri": "https://localhost:8080/"
        },
        "id": "MAf6GGPmDLYu",
        "outputId": "fed0e8e4-afdd-444a-f649-1ed8875bc1b6"
      },
      "outputs": [
        {
          "data": {
            "text/plain": [
              "[90, 5, 5, 'Po', 'Bk', 'Ac']"
            ]
          },
          "execution_count": 7,
          "metadata": {},
          "output_type": "execute_result"
        }
      ],
      "source": [
        "fitness = funcao_objetivo_pop_ligas(hall_da_fama, preco)\n",
        "maior_fitness = max(fitness)\n",
        "indice = fitness.index(maior_fitness)\n",
        "melhor_individuo_observado = hall_da_fama[indice]\n",
        "\n",
        "melhor_individuo_observado"
      ]
    },
    {
      "cell_type": "markdown",
      "metadata": {},
      "source": [
        "A partir disso, podemos realizar a plotagem da evolução do fitness obtido em cada uma das gerações, entendendo o desempenho do modelo:"
      ]
    },
    {
      "cell_type": "code",
      "execution_count": 8,
      "metadata": {
        "colab": {
          "base_uri": "https://localhost:8080/",
          "height": 607
        },
        "id": "5FpIbGu4dZlu",
        "outputId": "f196fc68-cb62-4de3-aa1e-40141f4d0470"
      },
      "outputs": [
        {
          "data": {
            "image/png": "[encoded data removed]",
            "text/plain": [
              "<Figure size 1200x600 with 1 Axes>"
            ]
          },
          "metadata": {},
          "output_type": "display_data"
        }
      ],
      "source": [
        "plt.figure(figsize=(12, 6))\n",
        "plt.plot(historico_fitness, label='Fitness por Geração', color='blue', marker='o', linestyle='-')\n",
        "plt.title('Evolução do Fitness ao Longo das Gerações', fontsize=16)\n",
        "plt.xlabel('Geração')\n",
        "plt.ylabel('Fitness')\n",
        "plt.legend()\n",
        "plt.grid()\n",
        "plt.tight_layout()\n",
        "plt.show()"
      ]
    },
    {
      "cell_type": "markdown",
      "metadata": {
        "id": "Ode-P4XBYrmt"
      },
      "source": [
        "---"
      ]
    },
    {
      "cell_type": "markdown",
      "metadata": {
        "id": "Oa-gAbQKYuUz"
      },
      "source": [
        "## **CONCLUSÃO**"
      ]
    },
    {
      "cell_type": "markdown",
      "metadata": {
        "id": "7lD1giKUY2Ik"
      },
      "source": [
        "Com a atividade desenvolvida no presente notebook, foi possível evoluir um algoritmo genético capaz de, a partir de um dicionário contendo preços associados a diferentes elementos químicos, propor a liga ternária mais cara, seguindo as delimitações definidas pelo enunciado do exercício. Desse modo, a prática realizada foi crucial para um maior aprofundamento acerca da implementação e adaptação de algoritmos genéticos num contexto de maximização, tendo permitido a exploração de um problema novo de otimização!"
      ]
    },
    {
      "cell_type": "markdown",
      "metadata": {
        "id": "Ikw0T--LY1g8"
      },
      "source": [
        "---"
      ]
    },
    {
      "cell_type": "markdown",
      "metadata": {
        "id": "iFmSVOSWY1K-"
      },
      "source": [
        "## **REFERÊNCIAS**\n",
        "\n",
        "**[1]** CASSAR, Daniel. Redes Neurais e Algoritmos Genéticos. 2025. Material de Aula."
      ]
    }
  ],
  "metadata": {
    "colab": {
      "provenance": []
    },
    "kernelspec": {
      "display_name": "Python 3",
      "name": "python3"
    },
    "language_info": {
      "codemirror_mode": {
        "name": "ipython",
        "version": 3
      },
      "file_extension": ".py",
      "mimetype": "text/x-python",
      "name": "python",
      "nbconvert_exporter": "python",
      "pygments_lexer": "ipython3",
      "version": "3.11.6"
    }
  },
  "nbformat": 4,
  "nbformat_minor": 0
}
