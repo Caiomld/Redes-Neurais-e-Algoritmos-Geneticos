{
  "cells": [
    {
      "cell_type": "markdown",
      "metadata": {
        "id": "YwHNAHahY_S_"
      },
      "source": [
        "## **INTRODUÇÃO**"
      ]
    },
    {
      "cell_type": "markdown",
      "metadata": {
        "id": "9ZX-mTSFY_QG"
      },
      "source": [
        "A prática desenvolvida no presente notebook objetiva solucionar o problema de otimização para buscar uma liga ternária de forma xA.yB.zC que possua o maior custo e o menor peso atômico possíveis. O enunciado delimita que a massa total da liga deve ser de 100g e cada elemento precisa ter uma contribuição de ao menos 5g.\n",
        "\n",
        "Algo interessante acerca dessa atividade é que ela possibilita abordar um conceito muito instigante: A `fronteira de Pareto`. Como sobredito, a tarefa compreende um entrave que envolve concomitantemente maximização (do custo) quanto minimização (do peso atômico). Nesse sentido, temos um problema de otimização multiobjetivo, já que visamos otimizar dois atributos do material (liga ternária). É nesse contexto que entra a `fronteira de Pareto`, que consiste em um conjunto de soluções ótimas estabelecendo um equilíbrio entre a maximização e a minimização de custos no projeto e na programação de uma planta de processamento de lotes multiuso propostas. Tal fronteira representa um meio termo entre os objetivos estipulados, ajudando a encontrar uma otimização que satisfaça de maneira adequada ambos os problemas de otimização abordados.[2,3]\n",
        "\n",
        "Visando resolver o problema proposto, partiu-se das funções definidas durante a atividade 4.13. Assim, a base das funções de mutação, cruzamento e seleção se manteve a mesma, contudo, foi necessário alterar o modo de reparação utilizado para garantir que os indivíduos fossem válidos, de modo a considerar a razão $\\frac{\\text{preço}}{\\text{peso}}$ de cada elemento. Assim, se o peço superou 100 g, a diferença para esse valor (o quanto passou) é reduzido do elemento do indivíduo que apresenta o menor valor para essa razão, já se estiver abaixo de 100 g, o processo inverso é feito. Para além disso, a função objetivo também foi alterada visando a maximização dessa relação $\\frac{\\text{preço}}{\\text{peso}}$."
      ]
    },
    {
      "cell_type": "markdown",
      "metadata": {
        "id": "JdEye_owZDty"
      },
      "source": [
        "---"
      ]
    },
    {
      "cell_type": "markdown",
      "metadata": {},
      "source": [
        "## **AUTORES E CONTRIBUIÇÕES**"
      ]
    },
    {
      "cell_type": "markdown",
      "metadata": {},
      "source": [
        "**Autores:**\n",
        "\n",
        "* Caio Matheus Leão Dantas\n",
        "* Raquel de Godoy Vianna\n",
        "\n",
        "**Contribuições:** A atividade foi desenvolvida em conjunto, sobretudo no que tange à compreensão do problema e à aplicação em código, enquanto a parte teórica foi realizada separadamente, de modo que ambos contribuíram igualmente para o desenvolvimento da tarefa."
      ]
    },
    {
      "cell_type": "markdown",
      "metadata": {},
      "source": [
        "---"
      ]
    },
    {
      "cell_type": "markdown",
      "metadata": {
        "id": "xskWC-zoY-yy"
      },
      "source": [
        "## **CÓDIGOS**"
      ]
    },
    {
      "cell_type": "markdown",
      "metadata": {},
      "source": [
        "O primeiro passo a ser realizado é a importação das bibliotecas necessárias para o desenvolvimento do código e o recebimento das funções definidas no arquivo :\"*.py*\":"
      ]
    },
    {
      "cell_type": "code",
      "execution_count": 1,
      "metadata": {
        "id": "ZMFcggr_IeXB"
      },
      "outputs": [],
      "source": [
        "import numpy as np\n",
        "import random\n",
        "import matplotlib.pyplot as plt\n",
        "\n",
        "from funcoes_feras import populacao_ligas, funcao_objetivo_pop_ligas_leves, selecao_torneio_max, cruzamentos_uniformes, mutacao_ligas_leves"
      ]
    },
    {
      "cell_type": "markdown",
      "metadata": {},
      "source": [
        "E a definição dos hiperparâmetros que serão utilizados no processo de evolução por gerações:"
      ]
    },
    {
      "cell_type": "code",
      "execution_count": 2,
      "metadata": {
        "id": "TwqH_3XBNMtI"
      },
      "outputs": [],
      "source": [
        "TAMANHO_POPULACAO = 100\n",
        "TAMANHO_TORNEIO = 3\n",
        "NUM_GERACOES = 50\n",
        "CHANCE_DE_CRUZAMENTO = 0.5\n",
        "CHANCE_DE_MUTACAO = 0.05"
      ]
    },
    {
      "cell_type": "markdown",
      "metadata": {},
      "source": [
        "Definimos o dicionário disponibilizado associado ao preço dos elementos em dólares por quilograma:"
      ]
    },
    {
      "cell_type": "code",
      "execution_count": 3,
      "metadata": {
        "id": "xUpJmP48LS69"
      },
      "outputs": [],
      "source": [
        "preco = {\n",
        "    \"H\": 1.39, \"He\": 24, \"Li\": 85.6, \"Be\": 857, \"B\": 3.68, \"C\": 0.122, \"N\": 0.14, \"O\": 0.154,\n",
        "    \"F\": 2.16, \"Ne\": 240, \"Na\": 3.43, \"Mg\": 2.32, \"Al\": 1.79, \"Si\": 1.7, \"P\": 2.69, \"S\": 0.0926,\n",
        "    \"Cl\": 0.082, \"Ar\": 0.931, \"K\": 13.6, \"Ca\": 2.35, \"Sc\": 3460, \"Ti\": 11.7, \"V\": 385, \"Cr\": 9.4,\n",
        "    \"Mn\": 1.82, \"Fe\": 0.424, \"Co\": 32.8, \"Ni\": 13.9, \"Cu\": 6, \"Zn\": 2.55, \"Ga\": 148, \"Ge\": 1010,\n",
        "    \"As\": 1.31, \"Se\": 21.4, \"Br\": 4.39, \"Kr\": 290, \"Rb\": 15500, \"Sr\": 6.68, \"Y\": 31, \"Nb\": 85.6,\n",
        "    \"Mo\": 40.1, \"Tc\": 100000, \"Ru\": 10600, \"Rh\": 147000, \"Pd\": 49500, \"Ag\": 521, \"Cd\": 2.73,\n",
        "    \"In\": 167, \"Sn\": 18.7, \"Sb\": 5.79, \"Te\": 63.5, \"I\": 35, \"Xe\": 1800, \"Cs\": 61800, \"Ba\": 0.275,\n",
        "    \"La\": 4.92, \"Ce\": 4.71, \"Pr\": 103, \"Nd\": 57.5, \"Pm\": 460000, \"Sm\": 13.9, \"Eu\": 31.4, \"Gd\": 28.6,\n",
        "    \"Tb\": 658, \"Dy\": 307, \"Ho\": 57.1, \"Er\": 26.4, \"Tm\": 3000, \"Yb\": 17.1, \"Lu\": 643, \"Hf\": 900,\n",
        "    \"Ta\": 312, \"W\": 35.3, \"Re\": 4150, \"Os\": 12000, \"Ir\": 56200, \"Pt\": 27800, \"Hg\": 30.2,\n",
        "    \"Tl\": 4200, \"Pb\": 2, \"Bi\": 6.36, \"Po\": 49200000000000, \"Ac\": 29000000000000, \"Th\": 287,\n",
        "    \"Pa\": 280000, \"U\": 101, \"Np\": 660000, \"Pu\": 6490000, \"Am\": 750000, \"Cm\": 160000000000,\n",
        "    \"Bk\": 185000000000, \"Cf\": 185000000000\n",
        "}"
      ]
    },
    {
      "cell_type": "markdown",
      "metadata": {},
      "source": [
        "E, de acordo com o requisitado no problema, obtemos o preço em dólares por grama:"
      ]
    },
    {
      "cell_type": "code",
      "execution_count": 4,
      "metadata": {
        "colab": {
          "base_uri": "https://localhost:8080/"
        },
        "id": "4D47fB92LXC5",
        "outputId": "acc76fa8-0bb2-435f-e5a0-cd291a949aa8"
      },
      "outputs": [
        {
          "data": {
            "text/plain": [
              "{'H': 1390.0,\n",
              " 'He': 24000,\n",
              " 'Li': 85600.0,\n",
              " 'Be': 857000,\n",
              " 'B': 3680.0,\n",
              " 'C': 122.0,\n",
              " 'N': 140.0,\n",
              " 'O': 154.0,\n",
              " 'F': 2160.0,\n",
              " 'Ne': 240000,\n",
              " 'Na': 3430.0,\n",
              " 'Mg': 2320.0,\n",
              " 'Al': 1790.0,\n",
              " 'Si': 1700.0,\n",
              " 'P': 2690.0,\n",
              " 'S': 92.60000000000001,\n",
              " 'Cl': 82.0,\n",
              " 'Ar': 931.0,\n",
              " 'K': 13600.0,\n",
              " 'Ca': 2350.0,\n",
              " 'Sc': 3460000,\n",
              " 'Ti': 11700.0,\n",
              " 'V': 385000,\n",
              " 'Cr': 9400.0,\n",
              " 'Mn': 1820.0,\n",
              " 'Fe': 424.0,\n",
              " 'Co': 32800.0,\n",
              " 'Ni': 13900.0,\n",
              " 'Cu': 6000,\n",
              " 'Zn': 2550.0,\n",
              " 'Ga': 148000,\n",
              " 'Ge': 1010000,\n",
              " 'As': 1310.0,\n",
              " 'Se': 21400.0,\n",
              " 'Br': 4390.0,\n",
              " 'Kr': 290000,\n",
              " 'Rb': 15500000,\n",
              " 'Sr': 6680.0,\n",
              " 'Y': 31000,\n",
              " 'Nb': 85600.0,\n",
              " 'Mo': 40100.0,\n",
              " 'Tc': 100000000,\n",
              " 'Ru': 10600000,\n",
              " 'Rh': 147000000,\n",
              " 'Pd': 49500000,\n",
              " 'Ag': 521000,\n",
              " 'Cd': 2730.0,\n",
              " 'In': 167000,\n",
              " 'Sn': 18700.0,\n",
              " 'Sb': 5790.0,\n",
              " 'Te': 63500.0,\n",
              " 'I': 35000,\n",
              " 'Xe': 1800000,\n",
              " 'Cs': 61800000,\n",
              " 'Ba': 275.0,\n",
              " 'La': 4920.0,\n",
              " 'Ce': 4710.0,\n",
              " 'Pr': 103000,\n",
              " 'Nd': 57500.0,\n",
              " 'Pm': 460000000,\n",
              " 'Sm': 13900.0,\n",
              " 'Eu': 31400.0,\n",
              " 'Gd': 28600.0,\n",
              " 'Tb': 658000,\n",
              " 'Dy': 307000,\n",
              " 'Ho': 57100.0,\n",
              " 'Er': 26400.0,\n",
              " 'Tm': 3000000,\n",
              " 'Yb': 17100.0,\n",
              " 'Lu': 643000,\n",
              " 'Hf': 900000,\n",
              " 'Ta': 312000,\n",
              " 'W': 35300.0,\n",
              " 'Re': 4150000,\n",
              " 'Os': 12000000,\n",
              " 'Ir': 56200000,\n",
              " 'Pt': 27800000,\n",
              " 'Hg': 30200.0,\n",
              " 'Tl': 4200000,\n",
              " 'Pb': 2000,\n",
              " 'Bi': 6360.0,\n",
              " 'Po': 49200000000000000,\n",
              " 'Ac': 29000000000000000,\n",
              " 'Th': 287000,\n",
              " 'Pa': 280000000,\n",
              " 'U': 101000,\n",
              " 'Np': 660000000,\n",
              " 'Pu': 6490000000,\n",
              " 'Am': 750000000,\n",
              " 'Cm': 160000000000000,\n",
              " 'Bk': 185000000000000,\n",
              " 'Cf': 185000000000000}"
            ]
          },
          "execution_count": 4,
          "metadata": {},
          "output_type": "execute_result"
        }
      ],
      "source": [
        "for i in preco:\n",
        "  preco[i] = preco[i] * 1000\n",
        "\n",
        "preco"
      ]
    },
    {
      "cell_type": "markdown",
      "metadata": {},
      "source": [
        "Entretanto, como nesse problema, utilizamos como outro parâmetro o peso atômico, também definimos o dicionário associado a ele:"
      ]
    },
    {
      "cell_type": "code",
      "execution_count": 5,
      "metadata": {
        "id": "oGZclispLsGW"
      },
      "outputs": [],
      "source": [
        "peso_atomico = {\n",
        "    \"H\": 1.008,\n",
        "    \"He\": 4.002602,\n",
        "    \"Li\": 6.94,\n",
        "    \"Be\": 9.0121831,\n",
        "    \"B\": 10.81,\n",
        "    \"C\": 12.011,\n",
        "    \"N\": 14.007,\n",
        "    \"O\": 15.999,\n",
        "    \"F\": 18.998403163,\n",
        "    \"Ne\": 20.1797,\n",
        "    \"Na\": 22.98976928,\n",
        "    \"Mg\": 24.305,\n",
        "    \"Al\": 26.9815385,\n",
        "    \"Si\": 28.085,\n",
        "    \"P\": 30.973761998,\n",
        "    \"S\": 32.06,\n",
        "    \"Cl\": 35.45,\n",
        "    \"Ar\": 39.948,\n",
        "    \"K\": 39.0983,\n",
        "    \"Ca\": 40.078,\n",
        "    \"Sc\": 44.955908,\n",
        "    \"Ti\": 47.867,\n",
        "    \"V\": 50.9415,\n",
        "    \"Cr\": 51.9961,\n",
        "    \"Mn\": 54.938044,\n",
        "    \"Fe\": 55.845,\n",
        "    \"Co\": 58.933194,\n",
        "    \"Ni\": 58.6934,\n",
        "    \"Cu\": 63.546,\n",
        "    \"Zn\": 65.38,\n",
        "    \"Ga\": 69.723,\n",
        "    \"Ge\": 72.63,\n",
        "    \"As\": 74.921595,\n",
        "    \"Se\": 78.971,\n",
        "    \"Br\": 79.904,\n",
        "    \"Kr\": 83.798,\n",
        "    \"Rb\": 85.4678,\n",
        "    \"Sr\": 87.62,\n",
        "    \"Y\": 88.90584,\n",
        "    \"Nb\": 92.90637,\n",
        "    \"Mo\": 95.95,\n",
        "    \"Tc\": 97.90721,\n",
        "    \"Ru\": 101.07,\n",
        "    \"Rh\": 102.9055,\n",
        "    \"Pd\": 106.42,\n",
        "    \"Ag\": 107.8682,\n",
        "    \"Cd\": 112.414,\n",
        "    \"In\": 114.818,\n",
        "    \"Sn\": 118.71,\n",
        "    \"Sb\": 121.76,\n",
        "    \"Te\": 127.6,\n",
        "    \"I\": 126.90447,\n",
        "    \"Xe\": 131.293,\n",
        "    \"Cs\": 132.90545196,\n",
        "    \"Ba\": 137.327,\n",
        "    \"La\": 138.90547,\n",
        "    \"Ce\": 140.116,\n",
        "    \"Pr\": 140.90766,\n",
        "    \"Nd\": 144.242,\n",
        "    \"Pm\": 144.91276,\n",
        "    \"Sm\": 150.36,\n",
        "    \"Eu\": 151.964,\n",
        "    \"Gd\": 157.25,\n",
        "    \"Tb\": 158.92535,\n",
        "    \"Dy\": 162.5,\n",
        "    \"Ho\": 164.93033,\n",
        "    \"Er\": 167.259,\n",
        "    \"Tm\": 168.93422,\n",
        "    \"Yb\": 173.045,\n",
        "    \"Lu\": 174.9668,\n",
        "    \"Hf\": 178.49,\n",
        "    \"Ta\": 180.94788,\n",
        "    \"W\": 183.84,\n",
        "    \"Re\": 186.207,\n",
        "    \"Os\": 190.23,\n",
        "    \"Ir\": 192.217,\n",
        "    \"Pt\": 195.084,\n",
        "    \"Hg\": 200.592,\n",
        "    \"Tl\": 204.38,\n",
        "    \"Pb\": 207.2,\n",
        "    \"Bi\": 208.9804,\n",
        "    \"Po\": 209.0,\n",
        "    \"Ac\": 227.0,\n",
        "    \"Th\": 232.0377,\n",
        "    \"Pa\": 231.03588,\n",
        "    \"U\": 238.02891,\n",
        "    \"Np\": 237.0,\n",
        "    \"Pu\": 244.0,\n",
        "    \"Am\": 243.0,\n",
        "    \"Cm\": 247.0,\n",
        "    \"Bk\": 247.0,\n",
        "    \"Cf\": 251.0\n",
        "}\n"
      ]
    },
    {
      "cell_type": "markdown",
      "metadata": {},
      "source": [
        "No processo de desenvolvimento, iremos adotar como critério de análise a relação entre preço e peso atômico, de forma que criaremos um dicionário de \"preço atômico\", que armazena essa relação:"
      ]
    },
    {
      "cell_type": "code",
      "execution_count": 6,
      "metadata": {
        "colab": {
          "base_uri": "https://localhost:8080/"
        },
        "id": "HZ292oLCTO9E",
        "outputId": "a0ed97fe-fb37-49dc-bf56-c37e1d5b400f"
      },
      "outputs": [
        {
          "data": {
            "text/plain": [
              "{'H': 1378.968253968254,\n",
              " 'He': 5996.099537251018,\n",
              " 'Li': 12334.2939481268,\n",
              " 'Be': 95093.496269511,\n",
              " 'B': 340.4255319148936,\n",
              " 'C': 10.157355757222547,\n",
              " 'N': 9.995002498750624,\n",
              " 'O': 9.625601600100007,\n",
              " 'F': 113.69376581115351,\n",
              " 'Ne': 11893.140135879126,\n",
              " 'Na': 149.19679959485003,\n",
              " 'Mg': 95.453610368237,\n",
              " 'Al': 66.34165801924156,\n",
              " 'Si': 60.53053231262239,\n",
              " 'P': 86.8477003269314,\n",
              " 'S': 2.8883343730505304,\n",
              " 'Cl': 2.31311706629055,\n",
              " 'Ar': 23.305296885951737,\n",
              " 'K': 347.84121048741247,\n",
              " 'Ca': 58.635660462098905,\n",
              " 'Sc': 76964.30022056277,\n",
              " 'Ti': 244.42726721958763,\n",
              " 'V': 7557.688721376481,\n",
              " 'Cr': 180.78278947844166,\n",
              " 'Mn': 33.12822713527988,\n",
              " 'Fe': 7.592443370042081,\n",
              " 'Co': 556.5624018273979,\n",
              " 'Ni': 236.8239018356408,\n",
              " 'Cu': 94.41979038806534,\n",
              " 'Zn': 39.00275313551545,\n",
              " 'Ga': 2122.685483986633,\n",
              " 'Ge': 13906.099407958145,\n",
              " 'As': 17.484945428617745,\n",
              " 'Se': 270.98555165820363,\n",
              " 'Br': 54.94092911493793,\n",
              " 'Kr': 3460.703119406191,\n",
              " 'Rb': 181354.84942867374,\n",
              " 'Sr': 76.23830175758958,\n",
              " 'Y': 348.68350605539524,\n",
              " 'Nb': 921.3577066890032,\n",
              " 'Mo': 417.9260031266284,\n",
              " 'Tc': 1021375.2388613668,\n",
              " 'Ru': 104877.80746017612,\n",
              " 'Rh': 1428495.0755790507,\n",
              " 'Pd': 465138.13193008833,\n",
              " 'Ag': 4829.968424429072,\n",
              " 'Cd': 24.285231376874766,\n",
              " 'In': 1454.4757790590327,\n",
              " 'Sn': 157.5267458512341,\n",
              " 'Sb': 47.55256241787122,\n",
              " 'Te': 497.64890282131665,\n",
              " 'I': 275.79800774551126,\n",
              " 'Xe': 13709.79412459156,\n",
              " 'Cs': 464992.21129468555,\n",
              " 'Ba': 2.0025195336678148,\n",
              " 'La': 35.41977144600569,\n",
              " 'Ce': 33.61500471038282,\n",
              " 'Pr': 730.975164870384,\n",
              " 'Nd': 398.63562623923684,\n",
              " 'Pm': 3174323.641341177,\n",
              " 'Sm': 92.44479914870975,\n",
              " 'Eu': 206.62788555184122,\n",
              " 'Gd': 181.87599364069953,\n",
              " 'Tb': 4140.308641761682,\n",
              " 'Dy': 1889.2307692307693,\n",
              " 'Ho': 346.2067892545901,\n",
              " 'Er': 157.83904005165644,\n",
              " 'Tm': 17758.39140228664,\n",
              " 'Yb': 98.81822647288278,\n",
              " 'Lu': 3674.982911043695,\n",
              " 'Hf': 5042.299288475545,\n",
              " 'Ta': 1724.2534148507293,\n",
              " 'W': 192.0147954743255,\n",
              " 'Re': 22287.024655356672,\n",
              " 'Os': 63081.53288124902,\n",
              " 'Ir': 292377.8854107597,\n",
              " 'Pt': 142502.7167784134,\n",
              " 'Hg': 150.55435909707265,\n",
              " 'Tl': 20549.95596438008,\n",
              " 'Pb': 9.652509652509654,\n",
              " 'Bi': 30.433476058041805,\n",
              " 'Po': 235406698564593.3,\n",
              " 'Ac': 127753303964757.7,\n",
              " 'Th': 1236.8679744713897,\n",
              " 'Pa': 1211932.969026283,\n",
              " 'U': 424.3182057171123,\n",
              " 'Np': 2784810.1265822784,\n",
              " 'Pu': 26598360.655737706,\n",
              " 'Am': 3086419.75308642,\n",
              " 'Cm': 647773279352.2267,\n",
              " 'Bk': 748987854251.0121,\n",
              " 'Cf': 737051792828.6853}"
            ]
          },
          "execution_count": 6,
          "metadata": {},
          "output_type": "execute_result"
        }
      ],
      "source": [
        "chaves = list(preco.keys())\n",
        "razoes = []\n",
        "for custo, peso in zip(list(preco.values()), list(peso_atomico.values())):\n",
        "  valor = custo/peso\n",
        "  razoes.append(valor)\n",
        "\n",
        "dic_precos_atomicos = dict(zip(chaves, razoes))\n",
        "dic_precos_atomicos"
      ]
    },
    {
      "cell_type": "markdown",
      "metadata": {},
      "source": [
        "Definimos uma população de composições de ligas possíveis, compostas por cada um dos três elementos seguidos por suas quantidades, no modelo (\"A\", \"B\", \"C\", \"x\", \"y\", \"z\") para um elemento xA.yB.zC:"
      ]
    },
    {
      "cell_type": "code",
      "execution_count": 7,
      "metadata": {
        "id": "TLtMyguvNJXJ"
      },
      "outputs": [],
      "source": [
        "populacao = populacao_ligas(TAMANHO_POPULACAO, preco)"
      ]
    },
    {
      "cell_type": "markdown",
      "metadata": {},
      "source": [
        "Com tudo já definido, realizamos o processo evolutivo por épocas com os processos de seleção, cruzamento e mutação, reparando os indivíduos se necessário:"
      ]
    },
    {
      "cell_type": "code",
      "execution_count": 8,
      "metadata": {
        "id": "2BWqkycINEeP"
      },
      "outputs": [],
      "source": [
        "hall_da_fama = []\n",
        "historico_fitness = []\n",
        "\n",
        "for n in range(NUM_GERACOES):\n",
        "\n",
        "    # Seleção\n",
        "    fitness = funcao_objetivo_pop_ligas_leves(populacao, preco, peso_atomico)\n",
        "    selecionados = selecao_torneio_max(populacao, fitness, TAMANHO_TORNEIO)\n",
        "\n",
        "    # Cruzamento\n",
        "    proxima_geracao = []\n",
        "    for pai, mae in zip(selecionados[::2], selecionados[1::2]):\n",
        "        individuo1, individuo2 = cruzamentos_uniformes(pai, mae, CHANCE_DE_CRUZAMENTO, list(preco.keys()))\n",
        "        proxima_geracao.append(individuo1)\n",
        "        proxima_geracao.append(individuo2)\n",
        "\n",
        "    # Mutação\n",
        "    mutacao_ligas_leves(proxima_geracao, CHANCE_DE_MUTACAO, list(preco.keys()), preco)\n",
        "\n",
        "    # Atualização do hall da fama\n",
        "    fitness = funcao_objetivo_pop_ligas_leves(proxima_geracao, preco, peso_atomico)\n",
        "\n",
        "    maior_fitness = max(fitness)\n",
        "    indice = fitness.index(maior_fitness)\n",
        "    hall_da_fama.append(proxima_geracao[indice])\n",
        "\n",
        "    # Armazenamento dos fitness\n",
        "    historico_fitness.append(max(fitness))\n",
        "\n",
        "    # Encerramento\n",
        "    populacao = proxima_geracao"
      ]
    },
    {
      "cell_type": "markdown",
      "metadata": {},
      "source": [
        "A partir da evolução por épocas, obtemos o indivíduo melhor avaliado e qual a configuração de elementos associada a ele:"
      ]
    },
    {
      "cell_type": "code",
      "execution_count": 9,
      "metadata": {
        "colab": {
          "base_uri": "https://localhost:8080/"
        },
        "id": "Gi26YgsyQDWa",
        "outputId": "221ae0ff-4e18-49b9-ac3e-d3602f53360b"
      },
      "outputs": [
        {
          "data": {
            "text/plain": [
              "[18, 77, 5, 'Ac', 'Po', 'Bk']"
            ]
          },
          "execution_count": 9,
          "metadata": {},
          "output_type": "execute_result"
        }
      ],
      "source": [
        "fitness = funcao_objetivo_pop_ligas_leves(hall_da_fama, preco, peso_atomico)\n",
        "maior_fitness = max(fitness)\n",
        "indice = fitness.index(maior_fitness)\n",
        "melhor_individuo_observado = hall_da_fama[indice]\n",
        "\n",
        "melhor_individuo_observado"
      ]
    },
    {
      "cell_type": "markdown",
      "metadata": {},
      "source": [
        "###### * Esse resultado obtido aparenta ser um pouco \"estranho\", mas segue a lógica exposta da `\"Fronteira de Pareto\"`, sendo a teoria já explicada na seção de Introdução e o resultado em si discutido na seção de Conclusão."
      ]
    },
    {
      "cell_type": "markdown",
      "metadata": {},
      "source": [
        "A partir disso, podemos realizar a plotagem da evolução do fitness obtido em cada uma das gerações, entendendo o desempenho do modelo:"
      ]
    },
    {
      "cell_type": "code",
      "execution_count": 14,
      "metadata": {
        "colab": {
          "base_uri": "https://localhost:8080/",
          "height": 607
        },
        "id": "CV1x2b8TcbW1",
        "outputId": "6487b3d1-672b-4438-de7b-6f4de6b7c089"
      },
      "outputs": [
        {
          "data": {
            "image/png": "[encoded data removed]",
            "text/plain": [
              "<Figure size 1200x600 with 1 Axes>"
            ]
          },
          "metadata": {},
          "output_type": "display_data"
        }
      ],
      "source": [
        "plt.figure(figsize=(12, 6))\n",
        "plt.plot(historico_fitness, label='Fitness por Geração', color='blue', marker='o', linestyle='-')\n",
        "plt.title('Evolução do Fitness ao Longo das Gerações', fontsize=16)\n",
        "plt.xlabel('Geração')\n",
        "plt.ylabel('Fitness')\n",
        "plt.legend()\n",
        "plt.grid()\n",
        "plt.tight_layout()\n",
        "plt.show()"
      ]
    },
    {
      "cell_type": "markdown",
      "metadata": {
        "id": "Ode-P4XBYrmt"
      },
      "source": [
        "---"
      ]
    },
    {
      "cell_type": "markdown",
      "metadata": {
        "id": "Oa-gAbQKYuUz"
      },
      "source": [
        "## **CONCLUSÃO**"
      ]
    },
    {
      "cell_type": "markdown",
      "metadata": {},
      "source": [
        "A partir do desenvolvimento dessa atividade, foi possível adentrar em um ramo \"novo\" para ambos os autores, que seria a otimização multi-objetivos. A proposição do problema de uma liga que possui a melhor combinação possível entre os critérios de preço e peso atômico, implica um processo de otimização tanto para o lado da minimização, quanto para o lado da maximização, de forma que a melhoria de um atributo frequentemente pode exigir o sacrifício no outro.\n",
        "\n",
        "Nesse contexto, o resultado obtido a partir do Algoritmo Genético desenvolvido deve ser compreendido através da ótica da `Fronteira de Pareto`. Basicamente, o algoritmo, nesse caso, não é desenvolvido para encontrar uma única solução ótima, mas sim tornar possível a definição de uma fronteira entre os valores considerados ótimos ou não, de forma que o intuito do algoritmo foge de mapear toda a fronteira de soluções ótimas, mas sim de convergir eficientemente para um único ponto de excelência sobre ou próximo a ela.\n",
        "\n",
        "Portanto, a liga final encontrada, que possuía como foco a relação preço/peso, não busca ser uma solução somente de alto \"fitness\", mas um ponto que equilibre a relação entre valor e leveza e a avalie como válida em relação à fronteira dos valores ótimos obtida."
      ]
    },
    {
      "cell_type": "markdown",
      "metadata": {},
      "source": [
        "---"
      ]
    },
    {
      "cell_type": "markdown",
      "metadata": {
        "id": "iFmSVOSWY1K-"
      },
      "source": [
        "## **REFERÊNCIAS**\n",
        "\n",
        "**[1]** CASSAR, Daniel. Redes Neurais e Algoritmos Genéticos. 2025. Material de Aula.\n",
        "\n",
        "**[2]** Pareto Frontier - an overview | ScienceDirect Topics. https://www.sciencedirect.com/topics/computer-science/pareto-frontier. Acedido 11 de junho de 2025.\n",
        "\n",
        "**[3]** Pareto Frontier - an overview | ScienceDirect Topics. https://www.sciencedirect.com/topics/engineering/pareto-frontier. Acedido 11 de junho de 2025.\n",
        "\n",
        "**[4]** Pareto Front for Two Objectives. MATLAB Help Center. Disponível em: https://www.mathworks.com/help/gads/pareto-front-for-two-objectives.html.\n",
        "\n",
        "**[5]** DATTA, Subham. Defining Multiobjective Algorithms and Pareto Frontiers. Baeldung  Disponível em: https://www.baeldung.com/cs/defining-multiobjective-algorithms-and-pareto-frontiers."
      ]
    }
  ],
  "metadata": {
    "colab": {
      "provenance": []
    },
    "kernelspec": {
      "display_name": "Python 3",
      "name": "python3"
    },
    "language_info": {
      "codemirror_mode": {
        "name": "ipython",
        "version": 3
      },
      "file_extension": ".py",
      "mimetype": "text/x-python",
      "name": "python",
      "nbconvert_exporter": "python",
      "pygments_lexer": "ipython3",
      "version": "3.11.6"
    }
  },
  "nbformat": 4,
  "nbformat_minor": 0
}
